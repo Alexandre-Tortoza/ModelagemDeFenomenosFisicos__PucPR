{
  "nbformat": 4,
  "nbformat_minor": 0,
  "metadata": {
    "colab": {
      "provenance": [],
      "include_colab_link": true
    },
    "kernelspec": {
      "name": "python3",
      "display_name": "Python 3"
    },
    "language_info": {
      "name": "python"
    }
  },
  "cells": [
    {
      "cell_type": "markdown",
      "metadata": {
        "id": "view-in-github",
        "colab_type": "text"
      },
      "source": [
        "<a href=\"https://colab.research.google.com/github/Alexandre-Tortoza/ModelagemDeFenomenosFisicos__PucPR/blob/main/Copy_of_Avalia%C3%A7%C3%A3o_Individual_RA3.ipynb\" target=\"_parent\"><img src=\"https://colab.research.google.com/assets/colab-badge.svg\" alt=\"Open In Colab\"/></a>"
      ]
    },
    {
      "cell_type": "markdown",
      "source": [
        "# Avaliação Individual RA3 - 2024-1\n",
        "\n",
        "**Antes de começar, leia estas instruções cuidadosamente.**\n",
        "Esta avaliação é individual. Você poderá consultar qualquer fonte disponível na biblioteca, suas anotações ou na internet. Você não pode consultar outras pessoas mesmo por meio eletrônico.\n",
        "\n",
        "**Crie uma cópia deste caderno agora!** E continue lendo as instruções nesta cópia.\n",
        "\n",
        "**Não existirão prorrogações de prazo de entrega.** Se programe para entregar sua avaliação 5 minutos antes do fim do prazo para evitar imprevistos de última hora.\n",
        "\n",
        "**Trabalhos idênticos entregues por pessoas, diferentes, serão zerados.** Todos os trabalhos poderão ser submetidos a verificação de plágio. Por meio do sistema de instituição ou outro qualquer disponível na internet. Isso significa que respostas copiadas e coladas de sistemas de inteligência artificial que sejam classificados com semelhança maior que 70% também serão zerados. Qualquer diagnóstico indicativo de plágio acima de 70% também irá provocar o zeramento da avaliação.\n",
        "\n",
        "Para que sua avaliação seja considerada **ela deve ser entregues em uma cópia deste caderno de atividades na forma de um link postado no AVA da instituição (Canvas)** apenas no local correspondente a essa entrega na avaliação. Qualquer link enviado em comentários, e-mails, mensagens de Whatsapp, ou qualquer outro meio eletrônico serão ignorados provocando o zeramento desta avaliação.\n",
        "\n",
        "Entrega será realizada com a postagem de um link apontando para um ambiente de execução, no AVA da institução. Neste link o **seu caderno deve permitir ser executado (permissão de leitor)**. Serão aceitos links diretos ao ambiente do Google Colaboratory, ou Links a um caderno do Google Colaboratory que tenha sido **salvo pelo próprio Google Colaboratory** no GitHub. Links para outro ambiente, ou que requeiram qualquer tipo de **download, cliques extras, ou ainda, que requeiram aprovação para acesso, provocarão o zeramento desta avaliação**.\n",
        "\n",
        "Antes de enviar o seu trabalho, teste o compartilhamento em uma aba anônima do seu navegador web preferido.\n",
        "\n",
        "Todos os enunciados devem ser preservados e você deverá inserir uma célula de textos com o **seu nome, IMEDIATATAMENTE APÓS esta célula de texto** onde estão estas instruções.\n",
        "\n",
        "**Qualquer alteração do caderno contendo as suas respostas que seja registrada após a data de postagem provocará a anulação da avaliação**.\n",
        "\n",
        "Você poderá usar, nas suas respostas, só e somente só, a **linguagem Python** limitada ao uso das seguintes bibliotecas: **math, numpy, sympy, matplotlib, ipWidgets e IPython**. O uso de qualquer biblioteca não listada nestas instruções irá provocar o zeramento da questão.\n",
        "\n",
        "**Todo e qualquer gráfico que usar nas suas respostas deverá ser criado usando o Python**.\n",
        "\n",
        "**Todas as questões devem ser respondidas em caixas de texto, usando latex para permitir a renderização com qualidade matemática.** Exceto quando a questão indicar que você pode usar qualquer técnica computacional. Neste caso, as técnicas estarão limitadas as técnicas vistas em sala e as técnicas baseadas no retângulo de Reimann.\n",
        "\n",
        "Não é permitido usar qualquer técnica matemática baseada em cálculo numérico, séries de Taylor. de Leibntz, ou de qualquer outro tipo, ou ainda conhecimento matemático que fuja dos conteúdos apresenados em aula referentes ao estudo da integração.\n",
        "\n",
        "**Você poderá utilizar técnicas numéricas para calcular áreas, ou para encontrar o polinômio referente a um dado conjunto de pontos. Ainda a sim, sua resposta deve ser explicada em uma caixa de textos, usando latex para as equações matemáticas. Ainda assim, estas técnicas estão limitadas as técnicas apresentadas em sala (Reimann, Lagrange)**.\n",
        "\n",
        "**Esta avaliação está limitada a conteúdo de técnicas, regras e conceitos de integração**. Porém, pode ocorrer a necessidade do uso dos conceitos e técnicas de limites, ou derivadas para a solução das questões. Neste caso, o uso de técnicas de derivação está limitado as técnicas apresentadas em sala. Estando exclúidos qualquer método que inclua o uso de séries.\n",
        "\n",
        "Se você encontrar algo errado nesta avaliação anote suas observações na própria questão. Suas observações serão consideradas durante a avaliação e, em caso de pertinência, poderão encejar a anulação do item, ou da questão relacionados ao erro que você encontrou de acordo com os critérios do professor.\n",
        "\n",
        "**ATENÇÃO: TODAS AS QUESTÕES DEVEM SER RESPONDIDAS NA CÉLULA EM BRANCO QUE EXISTE APÓS CADA ENUNCIADO. OS ENUNCIADOS TÊM QUE SER PRESERVADOS.** Se, por algum motivo, ao fazer a cópia deste caderno de questões você perca as células em branco, deve criar uma nova célula após cada enunciado para colocar sua resposta. Você poderá criar quantas células de texto, ou código, que precisar desde que estas células estejam entre a questão que você está respondendo e a próxima questão deste caderno.\n",
        "\n",
        "**Lembrem-se a interpretação faz parte da questão.**\n",
        "\n",
        "**Rubrica de Avaliação**: As questões serão consideradas corretas se, e somente se, apresentarem a resposta correta, o processo algébrico estiver claro, completo e conciso (nenhuma passagem não explicada), os gráficos contiverem todas as informações necessárias ao seu entendimento.\n",
        "\n",
        "## Regras de Integração\n",
        "\n",
        "### Regras de Integração em Português\n",
        "\n",
        "$$\n",
        "\\int k \\, dx = kx + C, \\quad \\text{onde } k \\text{ é uma constante}\n",
        "$$\n",
        "\n",
        "$$\n",
        "\\int x^n \\, dx = \\frac{1}{n + 1} x^{n + 1} + C, \\quad \\text{se } n \\neq -1\n",
        "$$\n",
        "\n",
        "$$\n",
        "\\int \\frac{1}{x} \\, dx = \\ln |x| + C\n",
        "$$\n",
        "\n",
        "$$\n",
        "\\int k f(x) \\, dx = k \\int f(x) \\, dx\n",
        "$$\n",
        "\n",
        "$$\n",
        "\\int \\left( f(x) \\pm g(x) \\right) \\, dx = \\int f(x) \\, dx \\pm \\int g(x) \\, dx\n",
        "$$\n",
        "\n",
        "$$\n",
        "\\int \\sin x \\, dx = -\\cos x + C\n",
        "$$\n",
        "\n",
        "$$\n",
        "\\int \\cos x \\, dx = \\sin x + C\n",
        "$$\n",
        "\n",
        "$$\n",
        "\\int e^x \\, dx = e^x + C\n",
        "$$\n"
      ],
      "metadata": {
        "id": "vgXVkO9FGMwU"
      }
    },
    {
      "cell_type": "markdown",
      "source": [
        "# Questão 1 - Vale até 1 ponto\n",
        "Em uma região desértica, pesquisadores estão estudando o crescimento de uma espécie rara de cacto. O crescimento do cacto ao longo do tempo é modelado pela função $y = x^5(2 - x)$, onde $y$ representa a altura do cacto em metros e $x$ representa o tempo em anos desde o início do estudo. Os pesquisadores querem determinar a quantidade total de biomassa acumulada pelo cacto ao longo dos primeiros 2 anos. Sabemos, de estudos anteriores que a biomassa acumulada é diretamente proporcional (1:1) a área sob a curva de crescimento do cacto ao longo do tempo. Determine a quantidade total de biomassa acumulada nestes dois anos.\n",
        "\n"
      ],
      "metadata": {
        "id": "vT6WZq9ZKd-r"
      }
    },
    {
      "cell_type": "markdown",
      "source": [
        "---\n",
        "\n",
        "Precisamos calcular a área sob a curva da função de crescimento do cacto, $y = x^5(2 - x)$, no intervalo de 0 a 2 anos. Isso significa que precisamos calcular a integral definida dessa função nesse intervalo.\n",
        "\n",
        "A integral definida de $y = x^5(2 - x)$ de 0 a 2 pode ser expressa como:\n",
        "\n",
        "$$\n",
        "\\int_0^2 x^5 (2 - x) \\, dx\n",
        "$$\n",
        "\n",
        "Vamos calcular essa integral:\n",
        "\n",
        "1. Expandimos a função integranda:\n",
        "$$\n",
        "x^5 (2 - x) = 2x^5 - x^6\n",
        "$$\n",
        "\n",
        "2. Integramos cada termo separadamente:\n",
        "$$\n",
        "\\int_0^2 (2x^5 - x^6) \\, dx = 2 \\int_0^2 x^5 \\, dx - \\int_0^2 x^6 \\, dx\n",
        "$$\n",
        "\n",
        "3. Calculamos as integrais:\n",
        "$$\n",
        "2 \\int_0^2 x^5 \\, dx = 2 \\left[ \\frac{x^6}{6} \\right]_0^2 = 2 \\left( \\frac{2^6}{6} - \\frac{0^6}{6} \\right) = 2 \\left( \\frac{64}{6} \\right) = \\frac{128}{6} = \\frac{64}{3}\n",
        "$$\n",
        "\n",
        "$$\n",
        "\\int_0^2 x^6 \\, dx = \\left[ \\frac{x^7}{7} \\right]_0^2 = \\frac{2^7}{7} - \\frac{0^7}{7} = \\frac{128}{7}\n",
        "$$\n",
        "\n",
        "4. Subtraímos os resultados obtidos:\n",
        "$$\n",
        "\\frac{64}{3} - \\frac{128}{7}\n",
        "$$\n",
        "\n",
        "Para subtrair essas frações, precisamos encontrar um denominador comum. O mínimo múltiplo comum (MMC) de 3 e 7 é 21. Então, convertendo as frações para o denominador comum, temos:\n",
        "\n",
        "$$\n",
        "\\frac{64}{3} = \\frac{64 \\times 7}{3 \\times 7} = \\frac{448}{21}\n",
        "$$\n",
        "\n",
        "$$\n",
        "\\frac{128}{7} = \\frac{128 \\times 3}{7 \\times 3} = \\frac{384}{21}\n",
        "$$\n",
        "\n",
        "Agora, podemos subtrair:\n",
        "\n",
        "$$\n",
        "\\frac{448}{21} - \\frac{384}{21} = \\frac{448 - 384}{21} = \\frac{64}{21}\n",
        "$$\n",
        "\n",
        "Portanto, a quantidade total de biomassa acumulada pelo cacto ao longo dos primeiros 2 anos é $\\frac{64}{21}$ metros.\n",
        "\n",
        "---"
      ],
      "metadata": {
        "id": "ddH04p4LmjNI"
      }
    },
    {
      "cell_type": "markdown",
      "source": [
        "# Questão 2 - Vale até 1 ponto\n",
        "Usando o Python (matplotlib, sympy e numpy) trace o gráfico e calcule a área sob a função $F(x) = x^5(2 - x)$ para $0 \\leq x \\leq 2$. Não esqueça de anotar os pontos, hachurar a área calculada e de imprimir o valor da área encontrada."
      ],
      "metadata": {
        "id": "aTU7tNRaMY4w"
      }
    },
    {
      "cell_type": "code",
      "source": [
        "import numpy as np\n",
        "import matplotlib.pyplot as plt\n",
        "from sympy import symbols, integrate\n",
        "\n",
        "x = symbols('x')\n",
        "F = x**5 * (2 - x)\n",
        "\n",
        "area = integrate(F, (x, 0, 2))\n",
        "\n",
        "print(f'A área sob a curva de F(x) de 0 a 2 é: {area.evalf()}')\n",
        "\n",
        "x_vals = np.linspace(0, 2, 400)\n",
        "F_vals = x_vals**5 * (2 - x_vals)\n",
        "\n",
        "plt.plot(x_vals, F_vals, label='$F(x) = x^5(2 - x)$')\n",
        "plt.fill_between(x_vals, F_vals, where=[(0 <= x <= 2) for x in x_vals], color='skyblue', alpha=0.4)\n",
        "plt.fill_between(x_vals, F_vals, where=[(0 <= x <= 2) for x in x_vals], color='none', edgecolor='blue', hatch='//')\n",
        "\n",
        "plt.scatter([0, 2], [0, 0], color='red')\n",
        "plt.text(0, 0, '(0, 0)', fontsize=12, verticalalignment='bottom', horizontalalignment='right')\n",
        "plt.text(2, 0, '(2, 0)', fontsize=12, verticalalignment='bottom', horizontalalignment='right')\n",
        "\n",
        "plt.xlabel('x')\n",
        "plt.ylabel('$F(x)$')\n",
        "plt.title('Gráfico de $F(x) = x^5(2 - x)$ com a área sob a curva')\n",
        "plt.legend()\n",
        "plt.grid(True)\n",
        "\n",
        "plt.show()\n"
      ],
      "metadata": {
        "colab": {
          "base_uri": "https://localhost:8080/",
          "height": 494
        },
        "id": "kwCk54QXnrUK",
        "outputId": "bf2740ce-b228-4638-8de8-f2fe2a1cd13d"
      },
      "execution_count": 5,
      "outputs": [
        {
          "output_type": "stream",
          "name": "stdout",
          "text": [
            "A área sob a curva de F(x) de 0 a 2 é: 3.04761904761905\n"
          ]
        },
        {
          "output_type": "display_data",
          "data": {
            "text/plain": [
              "<Figure size 640x480 with 1 Axes>"
            ],
            "image/png": "[encoded data removed]"
          },
          "metadata": {}
        }
      ]
    },
    {
      "cell_type": "markdown",
      "source": [
        "---\n",
        "\n",
        "1. Expandir a função integranda\n",
        "$$\n",
        "F(x) = x^5 (2 - x) = 2x^5 - x^6\n",
        "$$\n",
        "\n",
        "2. Configurar a integral definida\n",
        "$$\n",
        "\\int_{0}^{2} F(x) \\, dx = \\int_{0}^{2} (2x^5 - x^6) \\, dx\n",
        "$$\n",
        "\n",
        "3. Calcular a integral de cada termo separadamente\n",
        "$$\n",
        "\\int_{0}^{2} 2x^5 \\, dx = 2 \\left[ \\frac{x^6}{6} \\right]_{0}^{2} = 2 \\left( \\frac{2^6}{6} - \\frac{0^6}{6} \\right) = 2 \\left( \\frac{64}{6} \\right) = \\frac{128}{6} = \\frac{64}{3}\n",
        "$$\n",
        "\n",
        "$$\n",
        "\\int_{0}^{2} x^6 \\, dx = \\left[ \\frac{x^7}{7} \\right]_{0}^{2} = \\frac{2^7}{7} - \\frac{0^7}{7} = \\frac{128}{7}\n",
        "$$\n",
        "\n",
        "4. Subtrair os resultados das integrais\n",
        "$$\n",
        "\\int_{0}^{2} (2x^5 - x^6) \\, dx = \\frac{64}{3} - \\frac{128}{7}\n",
        "$$\n",
        "\n",
        "5. Encontrar o denominador comum e calcular a diferença\n",
        "$$\n",
        "\\frac{64}{3} = \\frac{64 \\times 7}{3 \\times 7} = \\frac{448}{21}\n",
        "$$\n",
        "\n",
        "$$\n",
        "\\frac{128}{7} = \\frac{128 \\times 3}{7 \\times 3} = \\frac{384}{21}\n",
        "$$\n",
        "\n",
        "$$\n",
        "\\frac{448}{21} - \\frac{384}{21} = \\frac{448 - 384}{21} = \\frac{64}{21}\n",
        "$$\n",
        "\n",
        "A área sob a curva de F(x) de 0 a 2 é\n",
        "$$\n",
        "\\frac{64}{21}\n",
        "$$\n",
        "\n",
        "\n",
        "---"
      ],
      "metadata": {
        "id": "lLtz97nAoDTg"
      }
    },
    {
      "cell_type": "markdown",
      "source": [],
      "metadata": {
        "id": "14g-2i7bnnI5"
      }
    },
    {
      "cell_type": "markdown",
      "source": [
        "# Questão 3 - Vale até 1 ponto\n",
        "\n",
        "A aceleração de um objeto é dada por $a(t) = \\cos(\\pi t)$, e sua velocidade no tempo $t = 0$ é $\\frac{1}{2\\pi}$. Usando apenas álgebra, encontre a distância total percorrida por este objeto nos primeiros $1,5$ segundos deste movimento. Dica: antes de calcular qualquer coisa verifique cuidadosamente a equação da aceleração. Não é necessário, mas talvez seja interessante, traçar um gráfico da aceleração e outro da velocidade para entender o problema. É necessário entender o movimento do objeto para saber quanto espaço ele realmente percorreu."
      ],
      "metadata": {
        "id": "-iPLzLPUNge9"
      }
    },
    {
      "cell_type": "markdown",
      "source": [
        "---\n",
        "1. equação da aceleração\n",
        "$$\n",
        "a(t) = \\cos(\\pi t)\n",
        "$$\n",
        "\n",
        "2. velocidade integrando a aceleração\n",
        "$$\n",
        "v(t) = \\int \\cos(\\pi t) \\, dt = \\frac{1}{\\pi} \\sin(\\pi t) + C\n",
        "$$\n",
        "\n",
        "Condição inicial: v(0) = \\frac{1}{2\\pi}\n",
        "$$\n",
        "v(0) = \\frac{1}{\\pi} \\sin(0) + C = \\frac{1}{2\\pi}\n",
        "$$\n",
        "\n",
        "$$\n",
        "C = \\frac{1}{2\\pi}\n",
        "$$\n",
        "\n",
        "Função velocidade:\n",
        "$$\n",
        "v(t) = \\frac{1}{\\pi} \\sin(\\pi t) + \\frac{1}{2\\pi}\n",
        "$$\n",
        "\n",
        "3. Encontrar a posição integrando a velocidade\n",
        "$$\n",
        "s(t) = \\int \\left( \\frac{1}{\\pi} \\sin(\\pi t) + \\frac{1}{2\\pi} \\right) \\, dt\n",
        "$$\n",
        "\n",
        "Integrando cada termo separadamente\n",
        "$$\n",
        "s(t) = -\\frac{1}{\\pi^2} \\cos(\\pi t) + \\frac{1}{2\\pi} t + C'\n",
        "$$\n",
        "\n",
        "Condição inicial: s(0) = 0\n",
        "$$\n",
        "s(0) = -\\frac{1}{\\pi^2} \\cos(0) + C' = 0\n",
        "$$\n",
        "\n",
        "$$\n",
        "C' = \\frac{1}{\\pi^2}\n",
        "$$\n",
        "\n",
        "Função posição:\n",
        "$$\n",
        "s(t) = -\\frac{1}{\\pi^2} \\cos(\\pi t) + \\frac{1}{2\\pi} t + \\frac{1}{\\pi^2}\n",
        "$$\n",
        "\n",
        "Calcular a posição final em t = 1.5\n",
        "$$\n",
        "s(1.5) = -\\frac{1}{\\pi^2} \\cos(\\pi \\cdot 1.5) + \\frac{1.5}{2\\pi} + \\frac{1}{\\pi^2}\n",
        "$$\n",
        "\n",
        "Como $\\cos(\\pi \\cdot 1.5) = 0$\n",
        "$$\n",
        "s(1.5) = \\frac{1.5}{2\\pi} + \\frac{1}{\\pi^2}\n",
        "$$\n",
        "\n",
        "---"
      ],
      "metadata": {
        "id": "1B2Zngv-prJD"
      }
    },
    {
      "cell_type": "code",
      "source": [
        "import numpy as np\n",
        "import matplotlib.pyplot as plt\n",
        "from scipy.integrate import quad\n",
        "\n",
        "def a(t):\n",
        "    return np.cos(np.pi * t)\n",
        "\n",
        "v0 = 1 / (2 * np.pi)\n",
        "\n",
        "def v(t):\n",
        "    return (1/np.pi) * np.sin(np.pi * t) + v0\n",
        "\n",
        "s0 = 1 / np.pi**2\n",
        "\n",
        "def s(t):\n",
        "    return -(1/np.pi**2) * np.cos(np.pi * t) + (1/(2*np.pi)) * t + s0\n",
        "\n",
        "t_vals = np.linspace(0, 1.5, 400)\n",
        "\n",
        "a_vals = a(t_vals)\n",
        "v_vals = v(t_vals)\n",
        "s_vals = s(t_vals)\n",
        "\n",
        "plt.figure(figsize=(12, 6))\n",
        "plt.subplot(1, 2, 1)\n",
        "plt.plot(t_vals, a_vals, label='$a(t) = \\cos(\\pi t)$')\n",
        "plt.xlabel('Tempo (s)')\n",
        "plt.ylabel('Aceleração (m/s²)')\n",
        "plt.title('Gráfico da Aceleração')\n",
        "plt.legend()\n",
        "plt.grid(True)\n",
        "\n",
        "plt.subplot(1, 2, 2)\n",
        "plt.plot(t_vals, v_vals, label='$v(t)$')\n",
        "plt.xlabel('Tempo (s)')\n",
        "plt.ylabel('Velocidade (m/s)')\n",
        "plt.title('Gráfico da Velocidade')\n",
        "plt.legend()\n",
        "plt.grid(True)\n",
        "\n",
        "plt.show()\n",
        "\n",
        "s_final = s(1.5)\n",
        "print(f'A posição final do objeto em t = 1.5 s é: {s_final}')\n"
      ],
      "metadata": {
        "colab": {
          "base_uri": "https://localhost:8080/",
          "height": 583
        },
        "id": "erfbV7-UqX-b",
        "outputId": "15a31d85-7e14-4464-db56-b82c3cf094fa"
      },
      "execution_count": 6,
      "outputs": [
        {
          "output_type": "display_data",
          "data": {
            "text/plain": [
              "<Figure size 1200x600 with 2 Axes>"
            ],
            "image/png": "[encoded data removed]"
          },
          "metadata": {}
        },
        {
          "output_type": "stream",
          "name": "stdout",
          "text": [
            "A posição final do objeto em t = 1.5 s é: 0.3400535982801808\n"
          ]
        }
      ]
    },
    {
      "cell_type": "markdown",
      "source": [
        "# Questão 4 - Vale até 1 ponto\n",
        "\n",
        "Encontre a área limitada por $f(x) = -x^2 + 4x + 1$, $g(x) = -x^3 + 7x^2 - 10x + 3$ para  $1\\leq x \\leq 2$. Nesta questão você pode usar álgebra, ou Python, considerando as limitações de usos de bibliotecas definidas para esta avaliação.  \n"
      ],
      "metadata": {
        "id": "CMdRv02PAz38"
      }
    },
    {
      "cell_type": "markdown",
      "source": [
        "---\n",
        "1. Definir as funções\n",
        "$$\n",
        "f(x) = -x^2 + 4x + 1\n",
        "$$\n",
        "$$\n",
        "g(x) = -x^3 + 7x^2 - 10x + 3\n",
        "$$\n",
        "\n",
        "2. Calcular a função diferença\n",
        "$$\n",
        "h(x) = g(x) - f(x) = -x^3 + 8x^2 - 14x + 2\n",
        "$$\n",
        "\n",
        "3. Integrar a função diferença no intervalo de 1 a 2\n",
        "$$\n",
        "\\text{Área} = \\int_{1}^{2} (-x^3 + 8x^2 - 14x + 2) \\, dx\n",
        "$$\n",
        "\n",
        " Integração termo a termo\n",
        "$$\n",
        "\\int (-x^3) \\, dx = -\\frac{x^4}{4}\n",
        "$$\n",
        "$$\n",
        "\\int (8x^2) \\, dx = \\frac{8x^3}{3}\n",
        "$$\n",
        "$$\n",
        "\\int (-14x) \\, dx = -7x^2\n",
        "$$\n",
        "$$\n",
        "\\int (2) \\, dx = 2x\n",
        "$$\n",
        "\n",
        "Primitiva da função\n",
        "$$\n",
        "\\left[ -\\frac{x^4}{4} + \\frac{8x^3}{3} - 7x^2 + 2x \\right]_{1}^{2}\n",
        "$$\n",
        "\n",
        "Avaliação nos limites\n",
        "Para x = 2:\n",
        "$$\n",
        "-\\frac{2^4}{4} + \\frac{8 \\cdot 2^3}{3} - 7 \\cdot 2^2 + 2 \\cdot 2 = -4 + \\frac{64}{3} - 28 + 4 = -28 + \\frac{64}{3}\n",
        "$$\n",
        "\n",
        "Para x = 1:\n",
        "$$\n",
        "-\\frac{1^4}{4} + \\frac{8 \\cdot 1^3}{3} - 7 \\cdot 1^2 + 2 \\cdot 1 = -\\frac{1}{4} + \\frac{8}{3} - 7 + 2 = -5 + \\frac{8}{3} - \\frac{1}{4}\n",
        "$$\n",
        "\n",
        "Subtração:\n",
        "$$\n",
        "\\left( -28 + \\frac{64}{3} \\right) - \\left( -5 + \\frac{8}{3} - \\frac{1}{4} \\right)\n",
        "$$\n",
        "\n",
        "Simplificação:\n",
        "$$\n",
        "= -23 + \\frac{56}{3} + \\frac{1}{4}\n",
        "$$\n",
        "\n",
        "Resultado final:\n",
        "$$\n",
        "= -23 + \\frac{56}{3} + \\frac{1}{4} = \\frac{-49}{12}\n",
        "$$\n",
        "\n",
        "---\n"
      ],
      "metadata": {
        "id": "LU2vGlnhq9pv"
      }
    },
    {
      "cell_type": "code",
      "source": [
        "import sympy as sp\n",
        "\n",
        "x = sp.symbols('x')\n",
        "f = -x**2 + 4*x + 1\n",
        "g = -x**3 + 7*x**2 - 10*x + 3\n",
        "\n",
        "h = g - f\n",
        "\n",
        "area = sp.integrate(h, (x, 1, 2))\n",
        "area.evalf()\n"
      ],
      "metadata": {
        "colab": {
          "base_uri": "https://localhost:8080/",
          "height": 37
        },
        "id": "fP5_kf-mrsb0",
        "outputId": "0a9a532f-10a1-4ad6-e916-7d593227d878"
      },
      "execution_count": 7,
      "outputs": [
        {
          "output_type": "execute_result",
          "data": {
            "text/plain": [
              "-4.08333333333333"
            ],
            "text/latex": "$\\displaystyle -4.08333333333333$"
          },
          "metadata": {},
          "execution_count": 7
        }
      ]
    },
    {
      "cell_type": "markdown",
      "source": [
        "# Questão 5 - Vale até 1 ponto\n",
        "\n",
        "Use o método dos discos para determinar o volume do sólido obtido pela rotação da região delimitada pelas funções $y = \\sqrt{x}$, $y = 3$ e o próprio eixo $y$ em torno do eixo $y$.\n"
      ],
      "metadata": {
        "id": "53zwpYIEF4fI"
      }
    },
    {
      "cell_type": "markdown",
      "source": [
        "\n",
        "---\n",
        "\n",
        "1. Identificar as funções e a região de interesse\n",
        "$$\n",
        "y = \\sqrt{x}\n",
        "$$\n",
        "$$\n",
        "y = 3\n",
        "$$\n",
        "$$\n",
        "\\text{o eixo } y\n",
        "$$\n",
        "\n",
        "2. Reescrever as funções em termos de $x$ como uma função de $y$\n",
        "$$\n",
        "y = \\sqrt{x} \\Rightarrow x = y^2\n",
        "$$\n",
        "\n",
        "3. Determinar os limites de integração\n",
        "$$\n",
        "0 \\leq y \\leq 3\n",
        "$$\n",
        "\n",
        "4. Usar o método dos discos\n",
        " O método dos discos envolve calcular o volume de pequenos discos empilhados ao longo do eixo de rotação.\n",
        "\n",
        " A fórmula para o volume de um disco é $\\pi R^2$, onde $R$ é o raio do disco.\n",
        " Para um disco infinitesimal de espessura $dy$, o volume é $\\pi R^2 dy$.\n",
        "\n",
        "5. Expressar o raio $R$ em termos de $y$\n",
        " O raio $R$ é a distância do eixo $y$ até a curva $x = y^2$, que é $R = y^2$.\n",
        "\n",
        "6. Configurar a integral para o volume\n",
        "$$\n",
        "V = \\pi \\int_{0}^{3} (y^4) \\, dy\n",
        "$$\n",
        "\n",
        "7. Calcular a integral\n",
        "$$\n",
        "\\int y^4 \\, dy = \\frac{y^5}{5}\n",
        "$$\n",
        "\n",
        "8. Avaliar a integral\n",
        "$$\n",
        "V = \\pi \\left[ \\frac{y^5}{5} \\right]_{0}^{3} = \\pi \\left( \\frac{3^5}{5} - \\frac{0^5}{5} \\right) = \\pi \\left( \\frac{243}{5} \\right) = \\frac{243\\pi}{5}\n",
        "$$\n",
        "\n",
        "Resultado final: O volume do sólido é\n",
        "$$\n",
        "\\frac{243\\pi}{5}\n",
        "$$\n",
        "\n",
        "\n",
        "---"
      ],
      "metadata": {
        "id": "e8JsRMZUsNyV"
      }
    },
    {
      "cell_type": "code",
      "source": [
        "import sympy as sp\n",
        "\n",
        "y = sp.symbols('y')\n",
        "\n",
        "R = y**2\n",
        "\n",
        "volume_integral = sp.integrate(sp.pi * R**2, (y, 0, 3))\n",
        "\n",
        "volume = volume_integral.evalf()\n",
        "volume\n"
      ],
      "metadata": {
        "colab": {
          "base_uri": "https://localhost:8080/",
          "height": 37
        },
        "id": "H_OBcYautbB3",
        "outputId": "5c9d2635-9e73-47fc-a721-39a1717c4abe"
      },
      "execution_count": 8,
      "outputs": [
        {
          "output_type": "execute_result",
          "data": {
            "text/plain": [
              "152.681402964464"
            ],
            "text/latex": "$\\displaystyle 152.681402964464$"
          },
          "metadata": {},
          "execution_count": 8
        }
      ]
    },
    {
      "cell_type": "markdown",
      "source": [
        "# Questão 6 - Vale até 3 pontos\n",
        "Para os problemas a e b, determine a média, usando a integração, para a funções nos intervalos especificados.\n",
        "\n",
        "a. $f(x) = 8x - 3 + 5e^{2-x}$ no intervalo $[0, 2]$ - Vale 1 ponto\n",
        "\n",
        "b. Considere que a posição de um objeto em movimento ao longo do eixo $ x $ é descrita pela função de deslocamento $ x(t) = t^3 - 6t^2 + 9t + 1 $, onde $ x(t) $ está em metros e $t$ está em segundos. Determine a velocidade média do objeto no intervalo de tempo de $ t = 1$ segundo até $t = 4$ segundos. - Vale 2 pontos"
      ],
      "metadata": {
        "id": "dr5lNibpLKmh"
      }
    },
    {
      "cell_type": "markdown",
      "source": [
        "---\n",
        "\n",
        "### a)\n",
        "\n",
        "1. Definir a função e o intervalo\n",
        "$$\n",
        "f(x) = 8x - 3 + 5e^{2-x}\n",
        "$$\n",
        "$$\n",
        "\\text{Intervalo: } [0, 2]\n",
        "$$\n",
        "\n",
        "2. Configurar a integral para a média\n",
        "$$\n",
        "\\text{Média} = \\frac{1}{2-0} \\int_{0}^{2} (8x - 3 + 5e^{2-x}) \\, dx\n",
        "$$\n",
        "\n",
        "3. Calcular a integral\n",
        "$$\n",
        "\\int 8x \\, dx = 4x^2\n",
        "$$\n",
        "$$\n",
        "\\int -3 \\, dx = -3x\n",
        "$$\n",
        "Para a integral de $5e^{2-x}$, usamos substituição. Deixe $u = 2 - x$, então $du = -dx$\n",
        "$$\n",
        "\\int 5e^{2-x} \\, dx = -5e^{2-x}\n",
        "$$\n",
        "\n",
        "4. Avaliar a integral nos limites\n",
        "$$\n",
        "\\int_{0}^{2} (8x - 3 + 5e^{2-x}) \\, dx = \\left[ 4x^2 - 3x - 5e^{2-x} \\right]_{0}^{2}\n",
        "$$\n",
        "\n",
        "5. Substituir os valores dos limites\n",
        "Para $ x = 2 $:\n",
        "$$\n",
        "4(2)^2 - 3(2) - 5e^{2-2} = 16 - 6 - 5e^{0} = 16 - 6 - 5 = 5\n",
        "$$\n",
        "\n",
        "Para $ x = 0 $:\n",
        "$$\n",
        "4(0)^2 - 3(0) - 5e^{2-0} = 0 - 0 - 5e^{2} = -5e^{2}\n",
        "$$\n",
        "\n",
        "6. Calcular a diferença\n",
        "$$\n",
        "\\left[ 4x^2 - 3x - 5e^{2-x} \\right]_{0}^{2} = 5 - (-5e^2) = 5 + 5e^2\n",
        "$$\n",
        "\n",
        "7. Dividir pelo comprimento do intervalo\n",
        "$$\n",
        "\\text{Média} = \\frac{1}{2} (5 + 5e^2)\n",
        "$$\n",
        "\n",
        "Resultado final: A média da função $ f(x) = 8x - 3 + 5e^{2-x} $ no intervalo $ [0, 2] $ é:\n",
        "$$\n",
        "\\text{Média} = \\frac{5 + 5e^2}{2}\n",
        "$$\n",
        "\n",
        "---\n",
        "\n",
        "\n"
      ],
      "metadata": {
        "id": "WkM78-1Gufwz"
      }
    },
    {
      "cell_type": "code",
      "source": [
        "import sympy as sp\n",
        "\n",
        "x = sp.symbols('x')\n",
        "f = 8*x - 3 + 5*sp.exp(2-x)\n",
        "\n",
        "integral = sp.integrate(f, (x, 0, 2))\n",
        "\n",
        "media = integral / (2 - 0)\n",
        "media.evalf()\n"
      ],
      "metadata": {
        "colab": {
          "base_uri": "https://localhost:8080/",
          "height": 37
        },
        "id": "Y_Hx3V0zus9M",
        "outputId": "9444caab-25f4-4036-fb6e-694c1273b1c5"
      },
      "execution_count": 9,
      "outputs": [
        {
          "output_type": "execute_result",
          "data": {
            "text/plain": [
              "20.9726402473266"
            ],
            "text/latex": "$\\displaystyle 20.9726402473266$"
          },
          "metadata": {},
          "execution_count": 9
        }
      ]
    },
    {
      "cell_type": "markdown",
      "source": [
        "---\n",
        "\n",
        "### b)\n",
        "\n",
        "1. Definir a função de deslocamento e os intervalos de tempo\n",
        "$$\n",
        "x(t) = t^3 - 6t^2 + 9t + 1\n",
        "$$\n",
        "$$\n",
        "\\text{Intervalo de tempo: } t = 1 \\text{ segundo até } t = 4 \\text{ segundos}\n",
        "$$\n",
        "\n",
        "2. Calcular o deslocamento em $ t = 4 $ segundos\n",
        "$$\n",
        "x(4) = 4^3 - 6 \\cdot 4^2 + 9 \\cdot 4 + 1\n",
        "$$\n",
        "$$\n",
        "x(4) = 64 - 96 + 36 + 1 = 5 \\, \\text{metros}\n",
        "$$\n",
        "\n",
        "3. Calcular o deslocamento em $ t = 1 $ segundo\n",
        "$$\n",
        "x(1) = 1^3 - 6 \\cdot 1^2 + 9 \\cdot 1 + 1\n",
        "$$\n",
        "$$\n",
        "x(1) = 1 - 6 + 9 + 1 = 5 \\, \\text{metros}\n",
        "$$\n",
        "\n",
        "4. Calcular a mudança no deslocamento ($\\Delta x$)\n",
        "$$\n",
        "\\Delta x = x(4) - x(1) = 5 - 5 = 0 \\, \\text{metros}\n",
        "$$\n",
        "\n",
        "5. Calcular a mudança no tempo ($\\Delta t$)\n",
        "$$\n",
        "\\Delta t = 4 - 1 = 3 \\, \\text{segundos}\n",
        "$$\n",
        "\n",
        "6. Calcular a velocidade média ($\\bar{v}$)\n",
        "$$\n",
        "\\bar{v} = \\frac{\\Delta x}{\\Delta t} = \\frac{0}{3} = 0 \\, \\text{m/s}\n",
        "$$\n",
        "\n",
        "Resultado final: A velocidade média do objeto no intervalo de tempo de $ t = 1 $ segundo até $ t = 4 $ segundos é\n",
        "$$\n",
        "0 \\, \\text{m/s}\n",
        "$$\n",
        "\n",
        "---"
      ],
      "metadata": {
        "id": "1Jjn-T0cu9Vq"
      }
    },
    {
      "cell_type": "code",
      "source": [
        "import sympy as sp\n",
        "\n",
        "t = sp.symbols('t')\n",
        "x = t**3 - 6*t**2 + 9*t + 1\n",
        "\n",
        "x4 = x.subs(t, 4)\n",
        "\n",
        "x1 = x.subs(t, 1)\n",
        "\n",
        "delta_x = x4 - x1\n",
        "\n",
        "delta_t = 4 - 1\n",
        "\n",
        "velocidade_media = delta_x / delta_t\n",
        "velocidade_media.evalf()\n"
      ],
      "metadata": {
        "colab": {
          "base_uri": "https://localhost:8080/",
          "height": 37
        },
        "id": "qgvmW_DuvRBk",
        "outputId": "f0731a07-633d-456f-8307-1bea0119cb1d"
      },
      "execution_count": 10,
      "outputs": [
        {
          "output_type": "execute_result",
          "data": {
            "text/plain": [
              "0"
            ],
            "text/latex": "$\\displaystyle 0$"
          },
          "metadata": {},
          "execution_count": 10
        }
      ]
    },
    {
      "cell_type": "markdown",
      "source": [
        "# Questão 7 - Vale até 2 pontos\n",
        "\n",
        "Nos ítens a, b a seguir, encontre a família de antiderivadas das seguintes funções:\n",
        "\n",
        "a. $f(x) = 4x^3 - 6x^2 + 2x - 5 $.\n",
        "\n",
        "b. $f(x) = \\frac{1}{x} + e^x$ para todo $x\\neq 0$.\n",
        "\n",
        "\n"
      ],
      "metadata": {
        "id": "j_fo89ayUveW"
      }
    },
    {
      "cell_type": "markdown",
      "source": [
        "---\n",
        "\n",
        "### a)\n",
        "\n",
        "1. Integral de $ 4x^3 $:\n",
        "$$\n",
        "\\int 4x^3 \\, dx = \\frac{4x^4}{4} = x^4\n",
        "$$\n",
        "\n",
        "2. Integral de $ -6x^2 $:\n",
        "$$\n",
        "\\int -6x^2 \\, dx = -6 \\cdot \\frac{x^3}{3} = -2x^3\n",
        "$$\n",
        "\n",
        "3. Integral de $ 2x $:\n",
        "$$\n",
        "\\int 2x \\, dx = 2 \\cdot \\frac{x^2}{2} = x^2\n",
        "$$\n",
        "\n",
        "4. Integral de $ -5 $:\n",
        "$$\n",
        "\\int -5 \\, dx = -5x\n",
        "$$\n",
        "\n",
        "5. Adicionar a constante de integração $ C $:\n",
        "$$\n",
        "F(x) = x^4 - 2x^3 + x^2 - 5x + C\n",
        "$$\n",
        "\n",
        "Portanto, a família de antiderivadas de $ f(x) = 4x^3 - 6x^2 + 2x - 5 $ é:\n",
        "$$\n",
        "F(x) = x^4 - 2x^3 + x^2 - 5x + C\n",
        "$$\n",
        "\n",
        "---"
      ],
      "metadata": {
        "id": "MIuwce5kvoZe"
      }
    },
    {
      "cell_type": "markdown",
      "source": [
        "### b)\n",
        "\n",
        "1. Integral de $ \\frac{1}{x} $:\n",
        "$$\n",
        "\\int \\frac{1}{x} \\, dx = \\ln|x|\n",
        "$$\n",
        "\n",
        "2. Integral de $ e^x $:\n",
        "$$\n",
        "\\int e^x \\, dx = e^x\n",
        "$$\n",
        "\n",
        "3. Adicionar a constante de integração $ C $:\n",
        "$$\n",
        "F(x) = \\ln|x| + e^x + C\n",
        "$$\n",
        "\n",
        "Portanto, a família de antiderivadas de $ f(x) = \\frac{1}{x} + e^x $ é:\n",
        "$$\n",
        "F(x) = \\ln|x| + e^x + C\n",
        "$$\n",
        "\n",
        "---"
      ],
      "metadata": {
        "id": "bXfgV5OSvqyk"
      }
    }
  ]
}